{
  "nbformat": 4,
  "nbformat_minor": 0,
  "metadata": {
    "colab": {
      "provenance": []
    },
    "kernelspec": {
      "name": "python3",
      "display_name": "Python 3"
    },
    "language_info": {
      "name": "python"
    }
  },
  "cells": [
    {
      "cell_type": "code",
      "source": [
        "!pip3 install pyspark"
      ],
      "metadata": {
        "colab": {
          "base_uri": "https://localhost:8080/"
        },
        "id": "4NkfvnSOcty4",
        "outputId": "7d16532a-49ae-47a9-fe81-c9dedf9ad480"
      },
      "execution_count": 3,
      "outputs": [
        {
          "output_type": "stream",
          "name": "stdout",
          "text": [
            "Collecting pyspark\n",
            "  Downloading pyspark-3.4.1.tar.gz (310.8 MB)\n",
            "\u001b[2K     \u001b[90m━━━━━━━━━━━━━━━━━━━━━━━━━━━━━━━━━━━━━━━\u001b[0m \u001b[32m310.8/310.8 MB\u001b[0m \u001b[31m4.5 MB/s\u001b[0m eta \u001b[36m0:00:00\u001b[0m\n",
            "\u001b[?25h  Preparing metadata (setup.py) ... \u001b[?25l\u001b[?25hdone\n",
            "Requirement already satisfied: py4j==0.10.9.7 in /usr/local/lib/python3.10/dist-packages (from pyspark) (0.10.9.7)\n",
            "Building wheels for collected packages: pyspark\n",
            "  Building wheel for pyspark (setup.py) ... \u001b[?25l\u001b[?25hdone\n",
            "  Created wheel for pyspark: filename=pyspark-3.4.1-py2.py3-none-any.whl size=311285398 sha256=a733e73478cd6d5d9e0e247841d123acaffdb31e542e50f44fa092a0d1ed5b69\n",
            "  Stored in directory: /root/.cache/pip/wheels/0d/77/a3/ff2f74cc9ab41f8f594dabf0579c2a7c6de920d584206e0834\n",
            "Successfully built pyspark\n",
            "Installing collected packages: pyspark\n",
            "Successfully installed pyspark-3.4.1\n"
          ]
        }
      ]
    },
    {
      "cell_type": "code",
      "execution_count": 4,
      "metadata": {
        "id": "ufOK2qtwcmRB"
      },
      "outputs": [],
      "source": [
        "from pyspark.sql import SparkSession\n",
        "\n",
        "spark = SparkSession.builder.getOrCreate()"
      ]
    },
    {
      "cell_type": "code",
      "source": [
        "parDF1 = spark.read.parquet(\"bdf6370f3c8e4182a97cd930996df1b7.snappy.parquet\")"
      ],
      "metadata": {
        "id": "UE_VboW_cq_O"
      },
      "execution_count": 5,
      "outputs": []
    },
    {
      "cell_type": "code",
      "source": [
        "parDF1.printSchema()"
      ],
      "metadata": {
        "colab": {
          "base_uri": "https://localhost:8080/"
        },
        "id": "ZgbGLzZ-dC7f",
        "outputId": "2204aae8-6015-48fb-c385-fadac63e89ec"
      },
      "execution_count": 12,
      "outputs": [
        {
          "output_type": "stream",
          "name": "stdout",
          "text": [
            "root\n",
            " |-- kind: string (nullable = true)\n",
            " |-- etag: string (nullable = true)\n",
            " |-- id: string (nullable = true)\n",
            " |-- snippet_channelid: string (nullable = true)\n",
            " |-- snippet_title: string (nullable = true)\n",
            " |-- snippet_assignable: boolean (nullable = true)\n",
            "\n"
          ]
        }
      ]
    },
    {
      "cell_type": "code",
      "source": [
        "parDF1.show(truncate = False)"
      ],
      "metadata": {
        "colab": {
          "base_uri": "https://localhost:8080/"
        },
        "id": "nsBSCDRUdXmf",
        "outputId": "dc67cae0-a418-46f4-f865-ddaacc61231f"
      },
      "execution_count": 13,
      "outputs": [
        {
          "output_type": "stream",
          "name": "stdout",
          "text": [
            "+---------------------+---------------------------------------------------------+---+------------------------+---------------------+------------------+\n",
            "|kind                 |etag                                                     |id |snippet_channelid       |snippet_title        |snippet_assignable|\n",
            "+---------------------+---------------------------------------------------------+---+------------------------+---------------------+------------------+\n",
            "|youtube#videoCategory|\"m2yskBQFythfE4irbTIeOgYYfBU/Xy1mB4_yLrHy_BmKmPBggty2mZQ\"|1  |UCBR8-60-B28hp2BmDPdntcQ|Film & Animation     |true              |\n",
            "|youtube#videoCategory|\"m2yskBQFythfE4irbTIeOgYYfBU/UZ1oLIIz2dxIhO45ZTFR3a3NyTA\"|2  |UCBR8-60-B28hp2BmDPdntcQ|Autos & Vehicles     |true              |\n",
            "|youtube#videoCategory|\"m2yskBQFythfE4irbTIeOgYYfBU/nqRIq97-xe5XRZTxbknKFVe5Lmg\"|10 |UCBR8-60-B28hp2BmDPdntcQ|Music                |true              |\n",
            "|youtube#videoCategory|\"m2yskBQFythfE4irbTIeOgYYfBU/HwXKamM1Q20q9BN-oBJavSGkfDI\"|15 |UCBR8-60-B28hp2BmDPdntcQ|Pets & Animals       |true              |\n",
            "|youtube#videoCategory|\"m2yskBQFythfE4irbTIeOgYYfBU/9GQMSRjrZdHeb1OEM1XVQ9zbGec\"|17 |UCBR8-60-B28hp2BmDPdntcQ|Sports               |true              |\n",
            "|youtube#videoCategory|\"m2yskBQFythfE4irbTIeOgYYfBU/FJwVpGCVZ1yiJrqZbpqe68Sy_OE\"|18 |UCBR8-60-B28hp2BmDPdntcQ|Short Movies         |false             |\n",
            "|youtube#videoCategory|\"m2yskBQFythfE4irbTIeOgYYfBU/M-3iD9dwK7YJCafRf_DkLN8CouA\"|19 |UCBR8-60-B28hp2BmDPdntcQ|Travel & Events      |true              |\n",
            "|youtube#videoCategory|\"m2yskBQFythfE4irbTIeOgYYfBU/WmA0qYEfjWsAoyJFSw2zinhn2wM\"|20 |UCBR8-60-B28hp2BmDPdntcQ|Gaming               |true              |\n",
            "|youtube#videoCategory|\"m2yskBQFythfE4irbTIeOgYYfBU/EapFaGYG7K0StIXVf8aba249tdM\"|21 |UCBR8-60-B28hp2BmDPdntcQ|Videoblogging        |false             |\n",
            "|youtube#videoCategory|\"m2yskBQFythfE4irbTIeOgYYfBU/xId8RX7vRN8rqkbYZbNIytUQDRo\"|22 |UCBR8-60-B28hp2BmDPdntcQ|People & Blogs       |true              |\n",
            "|youtube#videoCategory|\"m2yskBQFythfE4irbTIeOgYYfBU/G9LHzQmx44rX2S5yaga_Aqtwz8M\"|23 |UCBR8-60-B28hp2BmDPdntcQ|Comedy               |true              |\n",
            "|youtube#videoCategory|\"m2yskBQFythfE4irbTIeOgYYfBU/UVB9oxX2Bvqa_w_y3vXSLVK5E_s\"|24 |UCBR8-60-B28hp2BmDPdntcQ|Entertainment        |true              |\n",
            "|youtube#videoCategory|\"m2yskBQFythfE4irbTIeOgYYfBU/QiLK0ZIrFoORdk_g2l_XR_ECjDc\"|25 |UCBR8-60-B28hp2BmDPdntcQ|News & Politics      |true              |\n",
            "|youtube#videoCategory|\"m2yskBQFythfE4irbTIeOgYYfBU/r6Ck6Z0_L0rG37VJQR200SGNA_w\"|26 |UCBR8-60-B28hp2BmDPdntcQ|Howto & Style        |true              |\n",
            "|youtube#videoCategory|\"m2yskBQFythfE4irbTIeOgYYfBU/EoYkczo9I3RCf96RveKTOgOPkUM\"|27 |UCBR8-60-B28hp2BmDPdntcQ|Education            |true              |\n",
            "|youtube#videoCategory|\"m2yskBQFythfE4irbTIeOgYYfBU/w5HjcTD82G_XA3xBctS30zS-JpQ\"|28 |UCBR8-60-B28hp2BmDPdntcQ|Science & Technology |true              |\n",
            "|youtube#videoCategory|\"m2yskBQFythfE4irbTIeOgYYfBU/SalkJoBWq_smSEqiAx_qyri6Wa8\"|29 |UCBR8-60-B28hp2BmDPdntcQ|Nonprofits & Activism|true              |\n",
            "|youtube#videoCategory|\"m2yskBQFythfE4irbTIeOgYYfBU/lL7uWDr_071CHxifjYG1tJrp4Uo\"|30 |UCBR8-60-B28hp2BmDPdntcQ|Movies               |false             |\n",
            "|youtube#videoCategory|\"m2yskBQFythfE4irbTIeOgYYfBU/WnuVfjO-PyFLO7NTRQIbrGE62nk\"|31 |UCBR8-60-B28hp2BmDPdntcQ|Anime/Animation      |false             |\n",
            "|youtube#videoCategory|\"m2yskBQFythfE4irbTIeOgYYfBU/ctpH2hGA_UZ3volJT_FTlOg9M00\"|32 |UCBR8-60-B28hp2BmDPdntcQ|Action/Adventure     |false             |\n",
            "+---------------------+---------------------------------------------------------+---+------------------------+---------------------+------------------+\n",
            "only showing top 20 rows\n",
            "\n"
          ]
        }
      ]
    },
    {
      "cell_type": "code",
      "source": [],
      "metadata": {
        "id": "W70DEpt_d4BV"
      },
      "execution_count": null,
      "outputs": []
    }
  ]
}